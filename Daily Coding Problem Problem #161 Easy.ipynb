
{
 "cells": [
  {
   "cell_type": "code",
   "execution_count": 17,
   "id": "0cdb96e9",
   "metadata": {},
   "outputs": [],
   "source": [
    "def inverse(bin_str):\n",
    "    fin_str = []\n",
    "    for i in bin_str:\n",
    "        if i == '1':\n",
    "            fin_str.append('0')\n",
    "        elif i == '0':\n",
    "            fin_str.append('1')\n",
    "        else:\n",
    "            fin_str.append(\" \")\n",
    "    fin_str = ''.join(fin_str)\n",
    "    return fin_str"
   ]
  },
  {
   "cell_type": "code",
   "execution_count": 18,
   "id": "7646e219",
   "metadata": {},
   "outputs": [],
   "source": [
    "sample_str = '1111 0000 1111 0000 1111 0000 1111 0000'"
   ]
  },
  {
   "cell_type": "code",
   "execution_count": 19,
   "id": "f56ecb84",
   "metadata": {},
   "outputs": [
    {
     "data": {
      "text/plain": [
       "'0000 1111 0000 1111 0000 1111 0000 1111'"
      ]
     },
     "execution_count": 19,
     "metadata": {},
     "output_type": "execute_result"
    }
   ],
   "source": [
    "inverse(sample_str)"
   ]
  },
  {
   "cell_type": "code",
   "execution_count": null,
   "id": "8ac1ed56",
   "metadata": {},
   "outputs": [],
   "source": []
  }
 ],
 "metadata": {
  "kernelspec": {
   "display_name": "firstEnv",
   "language": "python",
   "name": "firstenv"
  },
  "language_info": {
   "codemirror_mode": {
    "name": "ipython",
    "version": 3
   },
   "file_extension": ".py",
   "mimetype": "text/x-python",
   "name": "python",
   "nbconvert_exporter": "python",
   "pygments_lexer": "ipython3",
   "version": "3.9.12"
  }
 },
 "nbformat": 4,
 "nbformat_minor": 5
}
