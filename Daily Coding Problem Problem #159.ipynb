
{
 "cells": [
  {
   "cell_type": "markdown",
   "id": "356e8d44",
   "metadata": {},
   "source": [
    "This problem was asked by Google.\n",
    "\n",
    "Given a string, return the first recurring character in it, or null if there is no recurring character.\n",
    "\n",
    "For example, given the string \"acbbac\", return \"b\". Given the string \"abcdef\", return null."
   ]
  },
  {
   "cell_type": "code",
   "execution_count": 73,
   "id": "55c7025e",
   "metadata": {},
   "outputs": [],
   "source": [
    "g_str = 'abcdef'"
   ]
  },
  {
   "cell_type": "code",
   "execution_count": 76,
   "id": "07400d36",
   "metadata": {},
   "outputs": [],
   "source": [
    "def check_reccuring_char(given_str):\n",
    "    for i in range(len(given_str)):\n",
    "        char = given_str[i]\n",
    "        if (i+1 < len(given_str)):\n",
    "            if(given_str[i+1] == char):\n",
    "                ans = char\n",
    "                break\n",
    "            else:\n",
    "                ans = None \n",
    "    return ans"
   ]
  },
  {
   "cell_type": "code",
   "execution_count": 77,
   "id": "12bb9ebe",
   "metadata": {},
   "outputs": [
    {
     "name": "stdout",
     "output_type": "stream",
     "text": [
      "None\n"
     ]
    }
   ],
   "source": [
    "print(check_reccuring_char(g_str))"
   ]
  },
  {
   "cell_type": "code",
   "execution_count": null,
   "id": "b35df6d7",
   "metadata": {},
   "outputs": [],
   "source": []
  }
 ],
 "metadata": {
  "kernelspec": {
   "display_name": "super-env",
   "language": "python",
   "name": "super-env"
  },
  "language_info": {
   "codemirror_mode": {
    "name": "ipython",
    "version": 3
   },
   "file_extension": ".py",
   "mimetype": "text/x-python",
   "name": "python",
   "nbconvert_exporter": "python",
   "pygments_lexer": "ipython3",
   "version": "3.7.13"
  }
 },
 "nbformat": 4,
 "nbformat_minor": 5
}
